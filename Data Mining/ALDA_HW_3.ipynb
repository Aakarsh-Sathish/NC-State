{
  "nbformat": 4,
  "nbformat_minor": 0,
  "metadata": {
    "colab": {
      "provenance": []
    },
    "kernelspec": {
      "name": "python3",
      "display_name": "Python 3"
    },
    "language_info": {
      "name": "python"
    }
  },
  "cells": [
    {
      "cell_type": "code",
      "execution_count": 49,
      "metadata": {
        "id": "1B869fA_QLIe"
      },
      "outputs": [],
      "source": [
        "from sklearn.model_selection import train_test_split\n",
        "from sklearn.model_selection import LeaveOneOut\n",
        "from sklearn.model_selection import cross_val_score\n",
        "from sklearn.linear_model import LinearRegression\n",
        "from numpy import mean\n",
        "from numpy import absolute\n",
        "from numpy import sqrt\n",
        "import pandas as pd\n",
        "import numpy as np"
      ]
    },
    {
      "cell_type": "code",
      "source": [
        "df = pd.DataFrame({'ID': [1, 2, 3, 4, 5, 6, 7, 8, 9, 10],\n",
        "                   'x1': [10.81, 6.61, 2.57, 9.48, 0.2, 2.11, 6.7, -1.75, 2.54, 0.81],\n",
        "                   'x2': [0.0, 5.0, 1.0, 5.0, 8.0, 2.0, 1.0, 5.0, -4.0, -6.0],\n",
        "                    'y': [0 , 1, 1,0,1,1,0,1,0,0]})"
      ],
      "metadata": {
        "id": "d7EDk5ZSQT6d"
      },
      "execution_count": 50,
      "outputs": []
    },
    {
      "cell_type": "code",
      "source": [
        "from joblib.disk import errno\n",
        "import numpy as np\n",
        "import pandas as pd\n",
        "from sklearn.neighbors import KNeighborsClassifier\n",
        "\n",
        "data = {\n",
        "    'ID': [1, 2, 3, 4, 5, 6, 7, 8, 9, 10],\n",
        "    'x1': [10.81, 6.61, 2.57, 9.48, 0.2, 2.11, 6.7, -1.75, 2.54, 0.81],\n",
        "    'x2': [0.0, 5.0, 1.0, 5.0, 8.0, 2.0, 1.0, 5.0, -4.0, -6.0],\n",
        "    'y': ['⋆', '♠', '♠', '⋆', '♠', '♠', '⋆', '♠', '⋆', '⋆']\n",
        "}\n",
        "df = pd.DataFrame(data)\n",
        "errno = 0\n",
        "for i in range(len(df)):\n",
        "    test_data = df.iloc[i]\n",
        "    train_data = df[df.index != i]\n",
        "    X_train = train_data[['x1', 'x2']]\n",
        "    y_train = train_data['y']\n",
        "    X_test = test_data[['x1', 'x2']].values.reshape(1, -1)\n",
        "    y_test = test_data['y']\n",
        "    knn = KNeighborsClassifier(n_neighbors=1)\n",
        "    knn.fit(X_train, y_train)\n",
        "    y_pred = knn.predict(X_test)\n",
        "    if y_pred != y_test:\n",
        "        errno += 1\n",
        "loocv_error = errno / len(df)\n",
        "print(f\"LOOCV error of 1NN: {loocv_error:.2f}\")"
      ],
      "metadata": {
        "colab": {
          "base_uri": "https://localhost:8080/"
        },
        "id": "0ExeACyn8hdV",
        "outputId": "1f325a00-ed54-4d1d-b4cd-dc3aa126e620"
      },
      "execution_count": 51,
      "outputs": [
        {
          "output_type": "stream",
          "name": "stdout",
          "text": [
            "LOOCV error of 1NN: 0.30\n"
          ]
        },
        {
          "output_type": "stream",
          "name": "stderr",
          "text": [
            "/usr/local/lib/python3.10/dist-packages/sklearn/base.py:439: UserWarning: X does not have valid feature names, but KNeighborsClassifier was fitted with feature names\n",
            "  warnings.warn(\n",
            "/usr/local/lib/python3.10/dist-packages/sklearn/base.py:439: UserWarning: X does not have valid feature names, but KNeighborsClassifier was fitted with feature names\n",
            "  warnings.warn(\n",
            "/usr/local/lib/python3.10/dist-packages/sklearn/base.py:439: UserWarning: X does not have valid feature names, but KNeighborsClassifier was fitted with feature names\n",
            "  warnings.warn(\n",
            "/usr/local/lib/python3.10/dist-packages/sklearn/base.py:439: UserWarning: X does not have valid feature names, but KNeighborsClassifier was fitted with feature names\n",
            "  warnings.warn(\n",
            "/usr/local/lib/python3.10/dist-packages/sklearn/base.py:439: UserWarning: X does not have valid feature names, but KNeighborsClassifier was fitted with feature names\n",
            "  warnings.warn(\n",
            "/usr/local/lib/python3.10/dist-packages/sklearn/base.py:439: UserWarning: X does not have valid feature names, but KNeighborsClassifier was fitted with feature names\n",
            "  warnings.warn(\n",
            "/usr/local/lib/python3.10/dist-packages/sklearn/base.py:439: UserWarning: X does not have valid feature names, but KNeighborsClassifier was fitted with feature names\n",
            "  warnings.warn(\n",
            "/usr/local/lib/python3.10/dist-packages/sklearn/base.py:439: UserWarning: X does not have valid feature names, but KNeighborsClassifier was fitted with feature names\n",
            "  warnings.warn(\n",
            "/usr/local/lib/python3.10/dist-packages/sklearn/base.py:439: UserWarning: X does not have valid feature names, but KNeighborsClassifier was fitted with feature names\n",
            "  warnings.warn(\n",
            "/usr/local/lib/python3.10/dist-packages/sklearn/base.py:439: UserWarning: X does not have valid feature names, but KNeighborsClassifier was fitted with feature names\n",
            "  warnings.warn(\n"
          ]
        }
      ]
    },
    {
      "cell_type": "code",
      "source": [
        "import numpy as np\n",
        "point1=(2.57,1.0)\n",
        "distarray=[]\n",
        "for index, row in df.iterrows():\n",
        "    point2=np.array((row['x1'], row['x2']))\n",
        "    dist = np.linalg.norm(point1 - point2)\n",
        "    distarray = np.append(distarray, dist)\n",
        "df['DIST']=distarray\n",
        "df_sort=df.sort_values('DIST')\n",
        "print(\"3 nearest neighbors for data points 3 (2.57, 1.0)\")\n",
        "print(df_sort.iloc[1].ID)\n",
        "print(df_sort.iloc[2].ID)\n",
        "print(df_sort.iloc[3].ID)\n",
        "point1=(0.2,0.8)\n",
        "distarray=[]\n",
        "for index, row in df.iterrows():\n",
        "    point2=np.array((row['x1'], row['x2']))\n",
        "    dist = np.linalg.norm(point1 - point2)\n",
        "    distarray = np.append(distarray, dist)\n",
        "df['DIST']=distarray\n",
        "df_sort=df.sort_values('DIST')\n",
        "print(\"3 nearest neighbors for data points 5 (0.2,0.8)\")\n",
        "print(df_sort.iloc[1].ID , df_sort.iloc[1].y)\n",
        "print(df_sort.iloc[2].ID , df_sort.iloc[2].y)\n",
        "print(df_sort.iloc[3].ID , df_sort.iloc[3].y)"
      ],
      "metadata": {
        "colab": {
          "base_uri": "https://localhost:8080/"
        },
        "id": "NiwZ8W4pRk4G",
        "outputId": "798944be-3464-4277-d9b1-143d11e013c9"
      },
      "execution_count": 60,
      "outputs": [
        {
          "output_type": "stream",
          "name": "stdout",
          "text": [
            "3 nearest neighbors for data points 3 (2.57, 1.0)\n",
            "6\n",
            "7\n",
            "9\n",
            "3 nearest neighbors for data points 5 (0.2,0.8)\n",
            "3 ♠\n",
            "8 ♠\n",
            "9 ⋆\n"
          ]
        }
      ]
    },
    {
      "cell_type": "code",
      "source": [
        "import numpy as np\n",
        "data_point=(2.57,1.0)\n",
        "di=[]\n",
        "for index, row in df.iterrows():\n",
        "    point2=np.array((row['x1'], row['x2']))\n",
        "    dist = np.linalg.norm(data_point - point2)\n",
        "    di = np.append(di, dist)\n",
        "df['distance']=di\n",
        "df_sort=df.sort_values('distance')\n",
        "print(\"3 nearest neighbors for data points 3 (2.57, 1.0)\")\n",
        "print(df_sort.iloc[1].ID , df_sort.iloc[1].y)\n",
        "print(df_sort.iloc[2].ID , df_sort.iloc[2].y)\n",
        "print(df_sort.iloc[3].ID , df_sort.iloc[3].y)\n",
        "data_point=(0.2,8.0)\n",
        "di=[]\n",
        "for index, row in df.iterrows():\n",
        "    point2=np.array((row['x1'], row['x2']))\n",
        "    dist = np.linalg.norm(data_point - point2)\n",
        "    di = np.append(di, dist)\n",
        "df['distance']=di\n",
        "df_sort=df.sort_values('distance')\n",
        "print(\"3 nearest neighbors for data points 5 (0.2,0.8)\")\n",
        "print(df_sort.iloc[1].ID , df_sort.iloc[1].y)\n",
        "print(df_sort.iloc[2].ID , df_sort.iloc[2].y)\n",
        "print(df_sort.iloc[3].ID , df_sort.iloc[3].y)"
      ],
      "metadata": {
        "colab": {
          "base_uri": "https://localhost:8080/"
        },
        "id": "DhegcUSjZfTR",
        "outputId": "76ce7385-a7ea-4809-b77d-1fe608c3a401"
      },
      "execution_count": 63,
      "outputs": [
        {
          "output_type": "stream",
          "name": "stdout",
          "text": [
            "3 nearest neighbors for data points 3 (2.57, 1.0)\n",
            "6 ♠\n",
            "7 ⋆\n",
            "9 ⋆\n",
            "3 nearest neighbors for data points 5 (0.2,0.8)\n",
            "8 ♠\n",
            "6 ♠\n",
            "2 ♠\n"
          ]
        }
      ]
    },
    {
      "cell_type": "code",
      "source": [
        "import numpy as np\n",
        "from sklearn.neighbors import KNeighborsClassifier\n",
        "from sklearn.model_selection import cross_val_score\n",
        "X = df[['x1', 'x2']]\n",
        "y = df['y']\n",
        "knn = KNeighborsClassifier(n_neighbors=3, metric='euclidean')\n",
        "def splits(df, no):\n",
        "    sp = []\n",
        "    for i in range(no):\n",
        "        test_indices = df.index[df.index % no == i]\n",
        "        train_indices = df.index[~(df.index % no == i)]\n",
        "        sp.append((train_indices, test_indices))\n",
        "    return sp\n",
        "cv_sp = splits(df, no=3)\n",
        "cross_val_scores = cross_val_score(knn, X, y, cv=cv_sp)\n",
        "cross_val_error = 1 - np.mean(cross_val_scores)\n",
        "print(f\"3-fold Cross-Validation Error of 3NN: {cross_val_error:.2f}\")"
      ],
      "metadata": {
        "colab": {
          "base_uri": "https://localhost:8080/"
        },
        "id": "_Tpk7YYqM7RF",
        "outputId": "2dd57335-af2e-4268-b88c-563735dac03f"
      },
      "execution_count": 53,
      "outputs": [
        {
          "output_type": "stream",
          "name": "stdout",
          "text": [
            "3-fold Cross-Validation Error of 3NN: 0.44\n"
          ]
        }
      ]
    },
    {
      "cell_type": "code",
      "source": [
        "import matplotlib.pyplot as plt\n",
        "\n",
        "# Sample data\n",
        "x = [10.81, 6.61, 2.57, 9.48, 0.2, 2.11, 6.7, -1.75, 2.54, 0.81]\n",
        "y = [0.0, 5.0, 1.0, 5.0, 8.0, 2.0, 1.0, 5.0, -4.0, -6.0]\n",
        "\n",
        "# Create a scatter plot\n",
        "plt.scatter(x, y, label='Data Points', color='blue', marker='o')\n",
        "\n",
        "# Add labels and a title\n",
        "plt.xlabel('X-axis')\n",
        "plt.ylabel('Y-axis')\n",
        "plt.title('Scatter Plot of Two Variables')\n",
        "\n",
        "# Add a legend\n",
        "plt.legend()\n",
        "\n",
        "# Show the plot\n",
        "plt.show()"
      ],
      "metadata": {
        "colab": {
          "base_uri": "https://localhost:8080/",
          "height": 472
        },
        "id": "EGuqI_ItoTJ-",
        "outputId": "83fa5578-2271-4d23-e8fb-b2b447c7c212"
      },
      "execution_count": 54,
      "outputs": [
        {
          "output_type": "display_data",
          "data": {
            "text/plain": [
              "<Figure size 640x480 with 1 Axes>"
            ],
            "image/png": "[encoded data removed]"
          },
          "metadata": {}
        }
      ]
    }
  ]
}